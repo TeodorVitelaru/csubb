{
 "cells": [
  {
   "cell_type": "code",
   "execution_count": 2,
   "metadata": {},
   "outputs": [
    {
     "name": "stderr",
     "output_type": "stream",
     "text": [
      "[nltk_data] Downloading package wordnet to\n",
      "[nltk_data]     C:\\Users\\Admin\\AppData\\Roaming\\nltk_data...\n",
      "[nltk_data]   Package wordnet is already up-to-date!\n",
      "[nltk_data] Downloading package omw-1.4 to\n",
      "[nltk_data]     C:\\Users\\Admin\\AppData\\Roaming\\nltk_data...\n",
      "[nltk_data]   Package omw-1.4 is already up-to-date!\n"
     ]
    },
    {
     "data": {
      "text/plain": [
       "True"
      ]
     },
     "execution_count": 2,
     "metadata": {},
     "output_type": "execute_result"
    }
   ],
   "source": [
    "import re\n",
    "import unicodedata\n",
    "import nltk\n",
    "import numpy as np\n",
    "from collections import Counter\n",
    "from nltk.corpus import wordnet\n",
    "import matplotlib.pyplot as plt\n",
    "nltk.download('wordnet')\n",
    "nltk.download('omw-1.4')"
   ]
  },
  {
   "cell_type": "code",
   "execution_count": 3,
   "metadata": {},
   "outputs": [
    {
     "name": "stdout",
     "output_type": "stream",
     "text": [
      "Numarul de propozitii: 10\n"
     ]
    }
   ],
   "source": [
    "text = \"\"\n",
    "with open('texts.txt', 'r', encoding='utf-8') as file:\n",
    "    text = file.read()\n",
    "sentences = re.split(r'[.!?]', text)\n",
    "# Eliminăm propozițiile goale\n",
    "sentences = [s.strip() for s in sentences if s.strip()]  \n",
    "print(\"Numarul de propozitii:\", len(sentences))"
   ]
  },
  {
   "cell_type": "code",
   "execution_count": 4,
   "metadata": {},
   "outputs": [
    {
     "name": "stdout",
     "output_type": "stream",
     "text": [
      "Numarul de cuvinte: 160\n",
      "Numarul de cuvinte unice: 97\n"
     ]
    }
   ],
   "source": [
    "words = re.findall(r'\\b\\w+\\b', text)\n",
    "print(\"Numarul de cuvinte:\",len(words))\n",
    "\n",
    "unique_words = set(words)\n",
    "print(\"Numarul de cuvinte unice:\", len(unique_words))"
   ]
  },
  {
   "cell_type": "code",
   "execution_count": 5,
   "metadata": {},
   "outputs": [
    {
     "name": "stdout",
     "output_type": "stream",
     "text": [
      "Cel mai scurt cuvant: o\n",
      "Cel mai lung cuvant: Confiiiiiiiiiiiiiiiiiiiiiiiiiiiirm\n"
     ]
    }
   ],
   "source": [
    "# 4. Cel mai scurt și cel mai lung cuvânt\n",
    "shortest_word = min(words, key=len)\n",
    "longest_word = max(words, key=len)\n",
    "\n",
    "print(\"Cel mai scurt cuvant:\", shortest_word)\n",
    "print(\"Cel mai lung cuvant:\", longest_word)"
   ]
  },
  {
   "cell_type": "code",
   "execution_count": 6,
   "metadata": {},
   "outputs": [
    {
     "name": "stdout",
     "output_type": "stream",
     "text": [
      "Text fara diacritice:\n",
      " Mesaj de informare: \n",
      "Cursul si laboratoarele de Inteligenta Artificiala vor fi o \n",
      "provocare pentru toti. Suntem convinsi ca veti realiza proiecte \n",
      "foarte interesante. Va incurajam sa adresati intrebari atunci \n",
      "cand ceva nu e clar, atat in mod live, cat si folosind platforma \n",
      "Teams, canalul ”general”. \n",
      "Daca ati citit pana aici, va rugam sa lasati un mesaj pe canalul \n",
      "general cu textul ”Confiiiiiiiiiiiiiiiiiiiiiiiiiiiirm ca am citit \n",
      "textul pentru problema 3 din lab2”. \n",
      "--\n",
      "Mesaj de informare generat de ChatGPT:\n",
      "Stimati cursanti,\n",
      "Suntem incantati sa va avem in echipa noastra pentru Cursul si \n",
      "laboratoarele de Inteligenta Artificiala. Aceasta experienta va \n",
      "fi o adevarata provocare, dar suntem convinsi ca veti realiza \n",
      "proiecte extrem de interesante.\n",
      "Va incurajam sa fiti activi si sa adresati intrebari atunci cand \n",
      "ceva nu este clar. Fie ca este vorba de o discutie in timp real \n",
      "sau prin intermediul platformei Teams, canalul ”general”, suntem \n",
      "aici sa va sprijinim.\n",
      "Succes si sa inceapa aventura AI!\n",
      "Cu consideratie, Echipa de Inteligenta Artificiala\n"
     ]
    }
   ],
   "source": [
    "def remove_diacritics(text):\n",
    "    return ''.join((c for c in unicodedata.normalize('NFD', text) if unicodedata.category(c) != 'Mn'))\n",
    "\n",
    "text_fara_diacritice = remove_diacritics(text)\n",
    "\n",
    "print(\"Text fara diacritice:\\n\", text_fara_diacritice)"
   ]
  },
  {
   "cell_type": "code",
   "execution_count": 7,
   "metadata": {},
   "outputs": [
    {
     "name": "stdout",
     "output_type": "stream",
     "text": [
      "set()\n"
     ]
    }
   ],
   "source": [
    "def get_synonyms(word):\n",
    "    synonyms = set()\n",
    "    \n",
    "    # Căutăm sinonime în limba română (ron)\n",
    "    for syn in wordnet.synsets(word, lang='ron'):\n",
    "        for lemma in syn.lemmas('ron'):\n",
    "            synonyms.add(lemma.name())\n",
    "    \n",
    "    return synonyms\n",
    "    \n",
    "\n",
    "sinonim = get_synonyms('Confirm')\n",
    "print(sinonim)"
   ]
  },
  {
   "cell_type": "code",
   "execution_count": 8,
   "metadata": {},
   "outputs": [
    {
     "name": "stdout",
     "output_type": "stream",
     "text": [
      "[103, 60, 133, 167, 164, 116, 83, 132, 32, 50]\n"
     ]
    },
    {
     "data": {
      "image/png": "[encoded data removed]",
      "text/plain": [
       "<Figure size 1000x400 with 2 Axes>"
      ]
     },
     "metadata": {},
     "output_type": "display_data"
    }
   ],
   "source": [
    "numar_cuvinte_propozitii = [len(sentence) for sentence in sentences]\n",
    "print(numar_cuvinte_propozitii)\n",
    "minim = min(numar_cuvinte_propozitii)\n",
    "maxim = max(numar_cuvinte_propozitii)\n",
    "mean = np.mean(numar_cuvinte_propozitii)\n",
    "\n",
    "cuvinte_propozitii_scaled_log = [np.log(p + 1) for p in numar_cuvinte_propozitii]\n",
    "\n",
    "fig, (ax1, ax2) = plt.subplots(1, 2, figsize=(10,4))\n",
    "ax1.hist(numar_cuvinte_propozitii, 20)\n",
    "ax1.set_title('histo')\n",
    "ax2.hist(cuvinte_propozitii_scaled_log, 20)\n",
    "ax2.set_title(\"log normalization\")\n",
    "plt.show()"
   ]
  },
  {
   "cell_type": "code",
   "execution_count": null,
   "metadata": {},
   "outputs": [],
   "source": []
  }
 ],
 "metadata": {
  "kernelspec": {
   "display_name": "Python 3",
   "language": "python",
   "name": "python3"
  },
  "language_info": {
   "codemirror_mode": {
    "name": "ipython",
    "version": 3
   },
   "file_extension": ".py",
   "mimetype": "text/x-python",
   "name": "python",
   "nbconvert_exporter": "python",
   "pygments_lexer": "ipython3",
   "version": "3.10.0"
  }
 },
 "nbformat": 4,
 "nbformat_minor": 2
}
