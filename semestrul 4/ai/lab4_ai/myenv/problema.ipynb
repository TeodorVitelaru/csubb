{
 "cells": [
  {
   "cell_type": "code",
   "execution_count": 2,
   "metadata": {},
   "outputs": [],
   "source": [
    "from azure.cognitiveservices.vision.computervision import ComputerVisionClient\n",
    "from azure.cognitiveservices.vision.computervision.models import VisualFeatureTypes\n",
    "from msrest.authentication import CognitiveServicesCredentials\n",
    "import os\n",
    "from sklearn.metrics import accuracy_score, precision_score, recall_score, f1_score\n",
    "\n",
    "import matplotlib.pyplot as plt\n",
    "from PIL import Image, ImageDraw\n",
    "import matplotlib.patches as patches\n",
    "import cv2\n",
    "import numpy as np\n"
   ]
  },
  {
   "cell_type": "markdown",
   "metadata": {},
   "source": [
    "Informatiile necesare pentru conectarea la Azure computer vision"
   ]
  },
  {
   "cell_type": "code",
   "execution_count": 3,
   "metadata": {},
   "outputs": [],
   "source": [
    "# Azure credentials\n",
    "subscription_key = \"8EcSSHwbjpywqtIhFz1xM8ymmcoJyDiNNrxdXKkUYsTK9IO72T9XJQQJ99BCACi5YpzXJ3w3AAAFACOGLWpt\"\n",
    "endpoint = \"https://teodorvitelaru.cognitiveservices.azure.com/\"\n",
    "\n",
    "# Authenticate client\n",
    "computervision_client = ComputerVisionClient(endpoint, CognitiveServicesCredentials(subscription_key))\n"
   ]
  },
  {
   "cell_type": "markdown",
   "metadata": {},
   "source": [
    "Pentru clasificarea imaginilor:"
   ]
  },
  {
   "cell_type": "code",
   "execution_count": 11,
   "metadata": {},
   "outputs": [
    {
     "name": "stdout",
     "output_type": "stream",
     "text": [
      "{'bike02.jpg': 'Bicycle', 'bike03.jpg': 'Bicycle', 'bike04.jpg': 'Bicycle', 'bike05.jpg': 'Bicycle', 'bike06.jpg': 'Bicycle', 'bike07.jpg': 'Bicycle', 'bike08.jpg': 'Bicycle', 'bike09.jpg': 'Bicycle', 'bike1.jpg': 'Bicycle', 'bike10.jpg': 'Bicycle', 'traffic01.jpg': 'No Bicycle', 'traffic02.jpg': 'No Bicycle', 'traffic03.jpg': 'No Bicycle', 'traffic04.jpg': 'No Bicycle', 'traffic05.jpg': 'No Bicycle', 'traffic06.jpg': 'No Bicycle', 'traffic07.jpg': 'No Bicycle', 'traffic08.jpg': 'No Bicycle', 'traffic09.jpg': 'No Bicycle', 'traffic10.jpg': 'No Bicycle'}\n",
      "Accuracy: 1.00\n",
      "Precision: 1.00\n",
      "Recall: 1.00\n",
      "F1-Score: 1.00\n"
     ]
    }
   ],
   "source": [
    "ground_truth = {\n",
    "    \"bike1.jpg\": \"Bicycle\",\n",
    "    \"bike02.jpg\": \"Bicycle\",\n",
    "    \"bike03.jpg\": \"Bicycle\",\n",
    "    \"bike04.jpg\": \"Bicycle\",\n",
    "    \"bike05.jpg\": \"Bicycle\",\n",
    "    \"bike06.jpg\": \"Bicycle\",\n",
    "    \"bike07.jpg\": \"Bicycle\",\n",
    "    \"bike08.jpg\": \"Bicycle\",\n",
    "    \"bike09.jpg\": \"Bicycle\",\n",
    "    \"bike10.jpg\": \"Bicycle\",\n",
    "    \"traffic01.jpg\": \"No Bicycle\",\n",
    "    \"traffic02.jpg\": \"No Bicycle\",\n",
    "    \"traffic03.jpg\": \"No Bicycle\",\n",
    "    \"traffic04.jpg\": \"No Bicycle\",\n",
    "    \"traffic05.jpg\": \"No Bicycle\",\n",
    "    \"traffic06.jpg\": \"No Bicycle\",\n",
    "    \"traffic07.jpg\": \"No Bicycle\",\n",
    "    \"traffic08.jpg\": \"No Bicycle\",\n",
    "    \"traffic09.jpg\": \"No Bicycle\",\n",
    "    \"traffic10.jpg\": \"No Bicycle\",\n",
    "}\n",
    "\n",
    "# Classify images\n",
    "def classify_images(image_folder):\n",
    "    results = {}\n",
    "    for img_name in os.listdir(image_folder):\n",
    "        img_path = os.path.join(image_folder, img_name)\n",
    "        with open(img_path, \"rb\") as image_stream:\n",
    "            analysis = computervision_client.analyze_image_in_stream(image_stream, visual_features=[VisualFeatureTypes.tags])\n",
    "            tags = [tag.name for tag in analysis.tags]\n",
    "            results[img_name] = \"Bicycle\" if \"bicycle\" in tags else \"No Bicycle\"\n",
    "    return results\n",
    "\n",
    "# Example usage\n",
    "image_folder = \"images/bikes\"\n",
    "predicted_labels = classify_images(image_folder)\n",
    "print(predicted_labels)\n",
    "\n",
    "y_true = [ground_truth[img] for img in ground_truth.keys()]\n",
    "y_pred = [predicted_labels[img] for img in ground_truth.keys()]\n",
    "\n",
    "#calculam metricile\n",
    "accuracy = accuracy_score(y_true, y_pred)\n",
    "precision = precision_score(y_true, y_pred, pos_label=\"Bicycle\")\n",
    "recall = recall_score(y_true, y_pred, pos_label=\"Bicycle\")\n",
    "f1 = f1_score(y_true, y_pred, pos_label=\"Bicycle\")\n",
    "\n",
    "# Afișăm rezultatele\n",
    "print(f\"Accuracy: {accuracy:.2f}\")\n",
    "print(f\"Precision: {precision:.2f}\")\n",
    "print(f\"Recall: {recall:.2f}\")\n",
    "print(f\"F1-Score: {f1:.2f}\")\n"
   ]
  },
  {
   "cell_type": "markdown",
   "metadata": {},
   "source": [
    "Este evident, task ul de la b dureaza mai mult deoarece este nevoie sa introduc manual acel\n",
    "border pentru fiecare imagine"
   ]
  },
  {
   "cell_type": "code",
   "execution_count": 6,
   "metadata": {},
   "outputs": [],
   "source": [
    "# Detect objects and draw bounding boxes\n",
    "def detect_and_draw_bicycles(image_folder, output_folder):\n",
    "    for img_name in os.listdir(image_folder):\n",
    "        img_path = os.path.join(image_folder, img_name)\n",
    "        with open(img_path, \"rb\") as image_stream:\n",
    "            # Analizăm imaginea folosind serviciul Computer Vision\n",
    "            analysis = computervision_client.analyze_image_in_stream(image_stream, visual_features=[VisualFeatureTypes.objects])\n",
    "            \n",
    "            # Deschidem imaginea\n",
    "            img = Image.open(img_path)\n",
    "            draw = ImageDraw.Draw(img)\n",
    "            \n",
    "            # Desenăm chenarul roșu pentru bicicletele detectate\n",
    "            for obj in analysis.objects:\n",
    "                if obj.object_property == \"bicycle\":\n",
    "                    rect = obj.rectangle\n",
    "                    # Desenăm un dreptunghi roșu\n",
    "                    draw.rectangle(\n",
    "                        [(rect.x, rect.y), (rect.x + rect.w, rect.y + rect.h)],\n",
    "                        outline=\"red\",\n",
    "                        width=3\n",
    "                    )\n",
    "            \n",
    "            # Salvăm imaginea procesată\n",
    "            output_path = os.path.join(output_folder, img_name)\n",
    "            img.save(output_path)\n",
    "\n",
    "\n",
    "# Example usage\n",
    "image_folder = \"images/bikes\"\n",
    "output_folder = \"images/output\"\n",
    "os.makedirs(output_folder, exist_ok=True)\n",
    "detect_and_draw_bicycles(image_folder, output_folder)"
   ]
  },
  {
   "cell_type": "markdown",
   "metadata": {},
   "source": [
    "Functiile pentru extragerea de bounding box din imaginile generate "
   ]
  },
  {
   "cell_type": "code",
   "execution_count": 8,
   "metadata": {},
   "outputs": [],
   "source": [
    "def extract_bounding_box_from_image(image_path):\n",
    "    # Citim imaginea\n",
    "    image = cv2.imread(image_path)\n",
    "    if image is None:\n",
    "        return None\n",
    "\n",
    "    # Convertim imaginea în spațiul de culoare HSV\n",
    "    hsv_image = cv2.cvtColor(image, cv2.COLOR_BGR2HSV)\n",
    "\n",
    "    # Definim intervalul pentru culoarea roșie\n",
    "    lower_red1 = np.array([0, 120, 70])  # Interval pentru roșu deschis\n",
    "    upper_red1 = np.array([10, 255, 255])\n",
    "    lower_red2 = np.array([170, 120, 70])  # Interval pentru roșu închis\n",
    "    upper_red2 = np.array([180, 255, 255])\n",
    "\n",
    "    # Creăm o mască pentru culoarea roșie\n",
    "    mask1 = cv2.inRange(hsv_image, lower_red1, upper_red1)\n",
    "    mask2 = cv2.inRange(hsv_image, lower_red2, upper_red2)\n",
    "    red_mask = mask1 | mask2\n",
    "\n",
    "    # Detectăm contururile\n",
    "    contours, _ = cv2.findContours(red_mask, cv2.RETR_EXTERNAL, cv2.CHAIN_APPROX_SIMPLE)\n",
    "\n",
    "    # Găsim bounding box-ul pentru cel mai mare contur (dacă există)\n",
    "    if contours:\n",
    "        largest_contour = max(contours, key=cv2.contourArea)\n",
    "        x, y, w, h = cv2.boundingRect(largest_contour)\n",
    "        return {\"x\": x, \"y\": y, \"w\": w, \"h\": h}\n",
    "    else:\n",
    "        return None\n",
    "    \n",
    "def extract_bound_from_all_images(image_folder):\n",
    "    bounding_boxes = {}\n",
    "    for img_name in os.listdir(image_folder):\n",
    "        img_path = os.path.join(image_folder, img_name)\n",
    "        bbox = extract_bounding_box_from_image(img_path)\n",
    "        if bbox:\n",
    "            bounding_boxes[img_name] = bbox\n",
    "    return bounding_boxes"
   ]
  },
  {
   "cell_type": "markdown",
   "metadata": {},
   "source": [
    "Functii pentru calcularea calitatii recunoasterii"
   ]
  },
  {
   "cell_type": "code",
   "execution_count": 9,
   "metadata": {},
   "outputs": [],
   "source": [
    "\n",
    "def calculate_iou(boxA, boxB):\n",
    "    # Calculăm coordonatele intersecției\n",
    "    xA = max(boxA[\"x\"], boxB[\"x\"])\n",
    "    yA = max(boxA[\"y\"], boxB[\"y\"])\n",
    "    xB = min(boxA[\"x\"] + boxA[\"w\"], boxB[\"x\"] + boxB[\"w\"])\n",
    "    yB = min(boxA[\"y\"] + boxA[\"h\"], boxB[\"y\"] + boxB[\"h\"])\n",
    "    \n",
    "    # Calculăm aria intersecției\n",
    "    interArea = max(0, xB - xA) * max(0, yB - yA)\n",
    "    \n",
    "    # Calculăm aria uniunii\n",
    "    boxAArea = boxA[\"w\"] * boxA[\"h\"]\n",
    "    boxBArea = boxB[\"w\"] * boxB[\"h\"]\n",
    "    unionArea = boxAArea + boxBArea - interArea\n",
    "    #print(f\"Box A: {boxA}, Box B: {boxB}, InterArea: {interArea}, UnionArea: {unionArea}\")\n",
    "    \n",
    "    # Calculăm IoU\n",
    "    iou = interArea / unionArea if unionArea > 0 else 0\n",
    "    return iou\n",
    "\n",
    "#Evaluăm performanța algoritmului\n",
    "def evaluate_detection(predicted_folder, ground_truth_folder):\n",
    "    predicted_boxes = extract_bound_from_all_images(predicted_folder)\n",
    "    ground_truth_boxes = extract_bound_from_all_images(ground_truth_folder)\n",
    "    \n",
    "    iou_scores = []\n",
    "    \n",
    "    \n",
    "    for img in predicted_boxes.keys():\n",
    "        if img not in ground_truth_boxes:\n",
    "            print(f\"Image {img} is not in the ground truth data.\")\n",
    "        else:\n",
    "            pred_box = predicted_boxes[img]\n",
    "            gt_box = ground_truth_boxes[img]\n",
    "            \n",
    "            iou = calculate_iou(pred_box, gt_box)\n",
    "            print(f\"Pentru imaginea {img}, IoU este: {iou:.2f}\")\n",
    "            if predicted_labels[img] == \"Bicycle\":\n",
    "                iou_scores.append(iou)\n",
    "    \n",
    "    # Calculăm IoU mediu\n",
    "    mean_iou = sum(iou_scores) / len(iou_scores) if iou_scores else 0\n",
    "    \n",
    "    # Calculăm precizia medie (mAP)\n",
    "    correct_predictions = sum(1 for iou in iou_scores if iou > 0.5)\n",
    "    total_predictions = len(iou_scores)\n",
    "    precision = correct_predictions / total_predictions if total_predictions > 0 else 0\n",
    "    \n",
    "    return mean_iou, precision, iou_scores\n"
   ]
  },
  {
   "cell_type": "markdown",
   "metadata": {},
   "source": [
    "Verificarea calitatii recunoasterii biciletor in imagini"
   ]
  },
  {
   "cell_type": "code",
   "execution_count": 10,
   "metadata": {},
   "outputs": [
    {
     "name": "stdout",
     "output_type": "stream",
     "text": [
      "Pentru imaginea bike02.jpg, IoU este: 0.90\n",
      "Pentru imaginea bike03.jpg, IoU este: 0.76\n",
      "Pentru imaginea bike04.jpg, IoU este: 0.99\n",
      "Pentru imaginea bike05.jpg, IoU este: 0.87\n",
      "Pentru imaginea bike06.jpg, IoU este: 0.00\n",
      "Pentru imaginea bike07.jpg, IoU este: 0.88\n",
      "Pentru imaginea bike08.jpg, IoU este: 0.00\n",
      "Pentru imaginea bike09.jpg, IoU este: 0.92\n",
      "Pentru imaginea bike1.jpg, IoU este: 0.96\n",
      "Pentru imaginea bike10.jpg, IoU este: 0.89\n",
      "Pentru imaginea traffic01.jpg, IoU este: 0.00\n",
      "Pentru imaginea traffic02.jpg, IoU este: 0.00\n",
      "Pentru imaginea traffic03.jpg, IoU este: 0.00\n",
      "Pentru imaginea traffic04.jpg, IoU este: 0.00\n",
      "Pentru imaginea traffic05.jpg, IoU este: 0.00\n",
      "Pentru imaginea traffic07.jpg, IoU este: 0.00\n",
      "Image traffic08.jpg is not in the ground truth data.\n",
      "Pentru imaginea traffic10.jpg, IoU este: 0.00\n",
      "Mean IoU: 0.72\n",
      "Precision: 0.80\n",
      "Iou scores: [0.9006727693834785, 0.7593786227683746, 0.9903846153846154, 0.871438177691855, 0.0, 0.8828151574937071, 0.0022101326079564773, 0.9231451394082182, 0.9606298240197592, 0.8941080066612038]\n"
     ]
    }
   ],
   "source": [
    "# Folderele cu bounding box-uri\n",
    "predicted_folder = \"images/output\"  # Bounding box-uri generate de algoritm\n",
    "ground_truth_folder = \"images/myOutput\"  # Bounding box-uri corecte\n",
    "\n",
    "# Calculăm metricile\n",
    "mean_iou, precision, iou_scores = evaluate_detection(predicted_folder, ground_truth_folder)\n",
    "\n",
    "# Afișăm rezultatele\n",
    "print(f\"Mean IoU: {mean_iou:.2f}\")\n",
    "print(f\"Precision: {precision:.2f}\")\n",
    "print(f\"Iou scores:\", iou_scores)"
   ]
  }
 ],
 "metadata": {
  "kernelspec": {
   "display_name": "myenv",
   "language": "python",
   "name": "python3"
  },
  "language_info": {
   "codemirror_mode": {
    "name": "ipython",
    "version": 3
   },
   "file_extension": ".py",
   "mimetype": "text/x-python",
   "name": "python",
   "nbconvert_exporter": "python",
   "pygments_lexer": "ipython3",
   "version": "3.10.0"
  }
 },
 "nbformat": 4,
 "nbformat_minor": 2
}
